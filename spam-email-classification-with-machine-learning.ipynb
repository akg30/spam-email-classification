{
 "cells": [
  {
   "cell_type": "markdown",
   "id": "d7be07f5",
   "metadata": {
    "papermill": {
     "duration": 0.011965,
     "end_time": "2023-08-18T17:16:32.760127",
     "exception": false,
     "start_time": "2023-08-18T17:16:32.748162",
     "status": "completed"
    },
    "tags": []
   },
   "source": [
    "# Spam Email Classification With Machine Learning And Data Science\n",
    "## Created And Done By \"Anubhav Kumar Gupta\""
   ]
  },
  {
   "cell_type": "code",
   "execution_count": 1,
   "id": "9cf7993f",
   "metadata": {
    "execution": {
     "iopub.execute_input": "2023-08-18T17:16:32.786588Z",
     "iopub.status.busy": "2023-08-18T17:16:32.785925Z",
     "iopub.status.idle": "2023-08-18T17:16:34.135120Z",
     "shell.execute_reply": "2023-08-18T17:16:34.133954Z"
    },
    "papermill": {
     "duration": 1.366292,
     "end_time": "2023-08-18T17:16:34.138110",
     "exception": false,
     "start_time": "2023-08-18T17:16:32.771818",
     "status": "completed"
    },
    "tags": []
   },
   "outputs": [
    {
     "name": "stderr",
     "output_type": "stream",
     "text": [
      "/opt/conda/lib/python3.10/site-packages/scipy/__init__.py:146: UserWarning: A NumPy version >=1.16.5 and <1.23.0 is required for this version of SciPy (detected version 1.23.5\n",
      "  warnings.warn(f\"A NumPy version >={np_minversion} and <{np_maxversion}\"\n"
     ]
    }
   ],
   "source": [
    "import numpy as np\n",
    "import pandas as pd\n",
    "import matplotlib.pyplot as plt\n",
    "import seaborn as sns\n",
    "import sklearn"
   ]
  },
  {
   "cell_type": "code",
   "execution_count": 2,
   "id": "199cf550",
   "metadata": {
    "execution": {
     "iopub.execute_input": "2023-08-18T17:16:34.169677Z",
     "iopub.status.busy": "2023-08-18T17:16:34.169149Z",
     "iopub.status.idle": "2023-08-18T17:16:34.211020Z",
     "shell.execute_reply": "2023-08-18T17:16:34.209932Z"
    },
    "papermill": {
     "duration": 0.059023,
     "end_time": "2023-08-18T17:16:34.213918",
     "exception": false,
     "start_time": "2023-08-18T17:16:34.154895",
     "status": "completed"
    },
    "tags": []
   },
   "outputs": [],
   "source": [
    "email=pd.read_csv('/kaggle/input/spam-email/spam.csv')"
   ]
  },
  {
   "cell_type": "code",
   "execution_count": 3,
   "id": "fc3fac15",
   "metadata": {
    "execution": {
     "iopub.execute_input": "2023-08-18T17:16:34.245811Z",
     "iopub.status.busy": "2023-08-18T17:16:34.245170Z",
     "iopub.status.idle": "2023-08-18T17:16:34.262582Z",
     "shell.execute_reply": "2023-08-18T17:16:34.261550Z"
    },
    "papermill": {
     "duration": 0.035092,
     "end_time": "2023-08-18T17:16:34.265131",
     "exception": false,
     "start_time": "2023-08-18T17:16:34.230039",
     "status": "completed"
    },
    "tags": []
   },
   "outputs": [
    {
     "data": {
      "text/html": [
       "<div>\n",
       "<style scoped>\n",
       "    .dataframe tbody tr th:only-of-type {\n",
       "        vertical-align: middle;\n",
       "    }\n",
       "\n",
       "    .dataframe tbody tr th {\n",
       "        vertical-align: top;\n",
       "    }\n",
       "\n",
       "    .dataframe thead th {\n",
       "        text-align: right;\n",
       "    }\n",
       "</style>\n",
       "<table border=\"1\" class=\"dataframe\">\n",
       "  <thead>\n",
       "    <tr style=\"text-align: right;\">\n",
       "      <th></th>\n",
       "      <th>Category</th>\n",
       "      <th>Message</th>\n",
       "    </tr>\n",
       "  </thead>\n",
       "  <tbody>\n",
       "    <tr>\n",
       "      <th>0</th>\n",
       "      <td>ham</td>\n",
       "      <td>Go until jurong point, crazy.. Available only ...</td>\n",
       "    </tr>\n",
       "    <tr>\n",
       "      <th>1</th>\n",
       "      <td>ham</td>\n",
       "      <td>Ok lar... Joking wif u oni...</td>\n",
       "    </tr>\n",
       "    <tr>\n",
       "      <th>2</th>\n",
       "      <td>spam</td>\n",
       "      <td>Free entry in 2 a wkly comp to win FA Cup fina...</td>\n",
       "    </tr>\n",
       "    <tr>\n",
       "      <th>3</th>\n",
       "      <td>ham</td>\n",
       "      <td>U dun say so early hor... U c already then say...</td>\n",
       "    </tr>\n",
       "    <tr>\n",
       "      <th>4</th>\n",
       "      <td>ham</td>\n",
       "      <td>Nah I don't think he goes to usf, he lives aro...</td>\n",
       "    </tr>\n",
       "  </tbody>\n",
       "</table>\n",
       "</div>"
      ],
      "text/plain": [
       "  Category                                            Message\n",
       "0      ham  Go until jurong point, crazy.. Available only ...\n",
       "1      ham                      Ok lar... Joking wif u oni...\n",
       "2     spam  Free entry in 2 a wkly comp to win FA Cup fina...\n",
       "3      ham  U dun say so early hor... U c already then say...\n",
       "4      ham  Nah I don't think he goes to usf, he lives aro..."
      ]
     },
     "execution_count": 3,
     "metadata": {},
     "output_type": "execute_result"
    }
   ],
   "source": [
    "email.head()"
   ]
  },
  {
   "cell_type": "code",
   "execution_count": 4,
   "id": "65027e2b",
   "metadata": {
    "execution": {
     "iopub.execute_input": "2023-08-18T17:16:34.290487Z",
     "iopub.status.busy": "2023-08-18T17:16:34.289856Z",
     "iopub.status.idle": "2023-08-18T17:16:34.299227Z",
     "shell.execute_reply": "2023-08-18T17:16:34.298183Z"
    },
    "papermill": {
     "duration": 0.024459,
     "end_time": "2023-08-18T17:16:34.301216",
     "exception": false,
     "start_time": "2023-08-18T17:16:34.276757",
     "status": "completed"
    },
    "tags": []
   },
   "outputs": [
    {
     "data": {
      "text/html": [
       "<div>\n",
       "<style scoped>\n",
       "    .dataframe tbody tr th:only-of-type {\n",
       "        vertical-align: middle;\n",
       "    }\n",
       "\n",
       "    .dataframe tbody tr th {\n",
       "        vertical-align: top;\n",
       "    }\n",
       "\n",
       "    .dataframe thead th {\n",
       "        text-align: right;\n",
       "    }\n",
       "</style>\n",
       "<table border=\"1\" class=\"dataframe\">\n",
       "  <thead>\n",
       "    <tr style=\"text-align: right;\">\n",
       "      <th></th>\n",
       "      <th>Category</th>\n",
       "      <th>Message</th>\n",
       "    </tr>\n",
       "  </thead>\n",
       "  <tbody>\n",
       "    <tr>\n",
       "      <th>5567</th>\n",
       "      <td>spam</td>\n",
       "      <td>This is the 2nd time we have tried 2 contact u...</td>\n",
       "    </tr>\n",
       "    <tr>\n",
       "      <th>5568</th>\n",
       "      <td>ham</td>\n",
       "      <td>Will ü b going to esplanade fr home?</td>\n",
       "    </tr>\n",
       "    <tr>\n",
       "      <th>5569</th>\n",
       "      <td>ham</td>\n",
       "      <td>Pity, * was in mood for that. So...any other s...</td>\n",
       "    </tr>\n",
       "    <tr>\n",
       "      <th>5570</th>\n",
       "      <td>ham</td>\n",
       "      <td>The guy did some bitching but I acted like i'd...</td>\n",
       "    </tr>\n",
       "    <tr>\n",
       "      <th>5571</th>\n",
       "      <td>ham</td>\n",
       "      <td>Rofl. Its true to its name</td>\n",
       "    </tr>\n",
       "  </tbody>\n",
       "</table>\n",
       "</div>"
      ],
      "text/plain": [
       "     Category                                            Message\n",
       "5567     spam  This is the 2nd time we have tried 2 contact u...\n",
       "5568      ham               Will ü b going to esplanade fr home?\n",
       "5569      ham  Pity, * was in mood for that. So...any other s...\n",
       "5570      ham  The guy did some bitching but I acted like i'd...\n",
       "5571      ham                         Rofl. Its true to its name"
      ]
     },
     "execution_count": 4,
     "metadata": {},
     "output_type": "execute_result"
    }
   ],
   "source": [
    "email.tail()"
   ]
  },
  {
   "cell_type": "code",
   "execution_count": 5,
   "id": "9987b035",
   "metadata": {
    "execution": {
     "iopub.execute_input": "2023-08-18T17:16:34.327274Z",
     "iopub.status.busy": "2023-08-18T17:16:34.326639Z",
     "iopub.status.idle": "2023-08-18T17:16:34.332839Z",
     "shell.execute_reply": "2023-08-18T17:16:34.332011Z"
    },
    "papermill": {
     "duration": 0.021248,
     "end_time": "2023-08-18T17:16:34.334755",
     "exception": false,
     "start_time": "2023-08-18T17:16:34.313507",
     "status": "completed"
    },
    "tags": []
   },
   "outputs": [
    {
     "data": {
      "text/plain": [
       "(5572, 2)"
      ]
     },
     "execution_count": 5,
     "metadata": {},
     "output_type": "execute_result"
    }
   ],
   "source": [
    "email.shape"
   ]
  },
  {
   "cell_type": "code",
   "execution_count": 6,
   "id": "0f62a1e8",
   "metadata": {
    "execution": {
     "iopub.execute_input": "2023-08-18T17:16:34.361243Z",
     "iopub.status.busy": "2023-08-18T17:16:34.360570Z",
     "iopub.status.idle": "2023-08-18T17:16:34.368449Z",
     "shell.execute_reply": "2023-08-18T17:16:34.367521Z"
    },
    "papermill": {
     "duration": 0.023571,
     "end_time": "2023-08-18T17:16:34.370611",
     "exception": false,
     "start_time": "2023-08-18T17:16:34.347040",
     "status": "completed"
    },
    "tags": []
   },
   "outputs": [
    {
     "data": {
      "text/plain": [
       "11144"
      ]
     },
     "execution_count": 6,
     "metadata": {},
     "output_type": "execute_result"
    }
   ],
   "source": [
    "email.size"
   ]
  },
  {
   "cell_type": "code",
   "execution_count": 7,
   "id": "90331ac6",
   "metadata": {
    "execution": {
     "iopub.execute_input": "2023-08-18T17:16:34.397266Z",
     "iopub.status.busy": "2023-08-18T17:16:34.396874Z",
     "iopub.status.idle": "2023-08-18T17:16:34.403961Z",
     "shell.execute_reply": "2023-08-18T17:16:34.402792Z"
    },
    "papermill": {
     "duration": 0.022973,
     "end_time": "2023-08-18T17:16:34.405997",
     "exception": false,
     "start_time": "2023-08-18T17:16:34.383024",
     "status": "completed"
    },
    "tags": []
   },
   "outputs": [],
   "source": [
    "email.columns=email.columns.str.strip()"
   ]
  },
  {
   "cell_type": "code",
   "execution_count": 8,
   "id": "68bdf3df",
   "metadata": {
    "execution": {
     "iopub.execute_input": "2023-08-18T17:16:34.432516Z",
     "iopub.status.busy": "2023-08-18T17:16:34.431807Z",
     "iopub.status.idle": "2023-08-18T17:16:34.436351Z",
     "shell.execute_reply": "2023-08-18T17:16:34.435659Z"
    },
    "papermill": {
     "duration": 0.019938,
     "end_time": "2023-08-18T17:16:34.438246",
     "exception": false,
     "start_time": "2023-08-18T17:16:34.418308",
     "status": "completed"
    },
    "tags": []
   },
   "outputs": [],
   "source": [
    "email.columns=email.columns.str.lower()"
   ]
  },
  {
   "cell_type": "code",
   "execution_count": 9,
   "id": "b993e0d3",
   "metadata": {
    "execution": {
     "iopub.execute_input": "2023-08-18T17:16:34.464596Z",
     "iopub.status.busy": "2023-08-18T17:16:34.463914Z",
     "iopub.status.idle": "2023-08-18T17:16:34.469800Z",
     "shell.execute_reply": "2023-08-18T17:16:34.468777Z"
    },
    "papermill": {
     "duration": 0.021461,
     "end_time": "2023-08-18T17:16:34.471706",
     "exception": false,
     "start_time": "2023-08-18T17:16:34.450245",
     "status": "completed"
    },
    "tags": []
   },
   "outputs": [
    {
     "data": {
      "text/plain": [
       "Index(['category', 'message'], dtype='object')"
      ]
     },
     "execution_count": 9,
     "metadata": {},
     "output_type": "execute_result"
    }
   ],
   "source": [
    "email.columns"
   ]
  },
  {
   "cell_type": "code",
   "execution_count": 10,
   "id": "2dd3567f",
   "metadata": {
    "execution": {
     "iopub.execute_input": "2023-08-18T17:16:34.497689Z",
     "iopub.status.busy": "2023-08-18T17:16:34.497024Z",
     "iopub.status.idle": "2023-08-18T17:16:34.508551Z",
     "shell.execute_reply": "2023-08-18T17:16:34.507417Z"
    },
    "papermill": {
     "duration": 0.027052,
     "end_time": "2023-08-18T17:16:34.510724",
     "exception": false,
     "start_time": "2023-08-18T17:16:34.483672",
     "status": "completed"
    },
    "tags": []
   },
   "outputs": [
    {
     "data": {
      "text/plain": [
       "category    0\n",
       "message     0\n",
       "dtype: int64"
      ]
     },
     "execution_count": 10,
     "metadata": {},
     "output_type": "execute_result"
    }
   ],
   "source": [
    "email.isna().sum()"
   ]
  },
  {
   "cell_type": "code",
   "execution_count": 11,
   "id": "6f99cf71",
   "metadata": {
    "execution": {
     "iopub.execute_input": "2023-08-18T17:16:34.537353Z",
     "iopub.status.busy": "2023-08-18T17:16:34.536580Z",
     "iopub.status.idle": "2023-08-18T17:16:34.558655Z",
     "shell.execute_reply": "2023-08-18T17:16:34.557564Z"
    },
    "papermill": {
     "duration": 0.03791,
     "end_time": "2023-08-18T17:16:34.560856",
     "exception": false,
     "start_time": "2023-08-18T17:16:34.522946",
     "status": "completed"
    },
    "tags": []
   },
   "outputs": [
    {
     "data": {
      "text/html": [
       "<div>\n",
       "<style scoped>\n",
       "    .dataframe tbody tr th:only-of-type {\n",
       "        vertical-align: middle;\n",
       "    }\n",
       "\n",
       "    .dataframe tbody tr th {\n",
       "        vertical-align: top;\n",
       "    }\n",
       "\n",
       "    .dataframe thead th {\n",
       "        text-align: right;\n",
       "    }\n",
       "</style>\n",
       "<table border=\"1\" class=\"dataframe\">\n",
       "  <thead>\n",
       "    <tr style=\"text-align: right;\">\n",
       "      <th></th>\n",
       "      <th>category</th>\n",
       "      <th>message</th>\n",
       "    </tr>\n",
       "  </thead>\n",
       "  <tbody>\n",
       "    <tr>\n",
       "      <th>2</th>\n",
       "      <td>spam</td>\n",
       "      <td>Free entry in 2 a wkly comp to win FA Cup fina...</td>\n",
       "    </tr>\n",
       "    <tr>\n",
       "      <th>7</th>\n",
       "      <td>ham</td>\n",
       "      <td>As per your request 'Melle Melle (Oru Minnamin...</td>\n",
       "    </tr>\n",
       "    <tr>\n",
       "      <th>8</th>\n",
       "      <td>spam</td>\n",
       "      <td>WINNER!! As a valued network customer you have...</td>\n",
       "    </tr>\n",
       "    <tr>\n",
       "      <th>9</th>\n",
       "      <td>spam</td>\n",
       "      <td>Had your mobile 11 months or more? U R entitle...</td>\n",
       "    </tr>\n",
       "    <tr>\n",
       "      <th>11</th>\n",
       "      <td>spam</td>\n",
       "      <td>SIX chances to win CASH! From 100 to 20,000 po...</td>\n",
       "    </tr>\n",
       "    <tr>\n",
       "      <th>...</th>\n",
       "      <td>...</td>\n",
       "      <td>...</td>\n",
       "    </tr>\n",
       "    <tr>\n",
       "      <th>5524</th>\n",
       "      <td>spam</td>\n",
       "      <td>You are awarded a SiPix Digital Camera! call 0...</td>\n",
       "    </tr>\n",
       "    <tr>\n",
       "      <th>5535</th>\n",
       "      <td>ham</td>\n",
       "      <td>I know you are thinkin malaria. But relax, chi...</td>\n",
       "    </tr>\n",
       "    <tr>\n",
       "      <th>5539</th>\n",
       "      <td>ham</td>\n",
       "      <td>Just sleeping..and surfing</td>\n",
       "    </tr>\n",
       "    <tr>\n",
       "      <th>5553</th>\n",
       "      <td>ham</td>\n",
       "      <td>Hahaha..use your brain dear</td>\n",
       "    </tr>\n",
       "    <tr>\n",
       "      <th>5558</th>\n",
       "      <td>ham</td>\n",
       "      <td>Sorry, I'll call later</td>\n",
       "    </tr>\n",
       "  </tbody>\n",
       "</table>\n",
       "<p>704 rows × 2 columns</p>\n",
       "</div>"
      ],
      "text/plain": [
       "     category                                            message\n",
       "2        spam  Free entry in 2 a wkly comp to win FA Cup fina...\n",
       "7         ham  As per your request 'Melle Melle (Oru Minnamin...\n",
       "8        spam  WINNER!! As a valued network customer you have...\n",
       "9        spam  Had your mobile 11 months or more? U R entitle...\n",
       "11       spam  SIX chances to win CASH! From 100 to 20,000 po...\n",
       "...       ...                                                ...\n",
       "5524     spam  You are awarded a SiPix Digital Camera! call 0...\n",
       "5535      ham  I know you are thinkin malaria. But relax, chi...\n",
       "5539      ham                         Just sleeping..and surfing\n",
       "5553      ham                        Hahaha..use your brain dear\n",
       "5558      ham                             Sorry, I'll call later\n",
       "\n",
       "[704 rows x 2 columns]"
      ]
     },
     "execution_count": 11,
     "metadata": {},
     "output_type": "execute_result"
    }
   ],
   "source": [
    "email[email.duplicated(subset=['category','message'],keep=False)]"
   ]
  },
  {
   "cell_type": "code",
   "execution_count": 12,
   "id": "23af225f",
   "metadata": {
    "execution": {
     "iopub.execute_input": "2023-08-18T17:16:34.588435Z",
     "iopub.status.busy": "2023-08-18T17:16:34.587644Z",
     "iopub.status.idle": "2023-08-18T17:16:34.598501Z",
     "shell.execute_reply": "2023-08-18T17:16:34.597061Z"
    },
    "papermill": {
     "duration": 0.027686,
     "end_time": "2023-08-18T17:16:34.600924",
     "exception": false,
     "start_time": "2023-08-18T17:16:34.573238",
     "status": "completed"
    },
    "tags": []
   },
   "outputs": [],
   "source": [
    "email.drop_duplicates(subset=['category','message'],keep='first',inplace=True)"
   ]
  },
  {
   "cell_type": "code",
   "execution_count": 13,
   "id": "bc9b0f94",
   "metadata": {
    "execution": {
     "iopub.execute_input": "2023-08-18T17:16:34.633249Z",
     "iopub.status.busy": "2023-08-18T17:16:34.632448Z",
     "iopub.status.idle": "2023-08-18T17:16:34.639284Z",
     "shell.execute_reply": "2023-08-18T17:16:34.638457Z"
    },
    "papermill": {
     "duration": 0.02578,
     "end_time": "2023-08-18T17:16:34.641429",
     "exception": false,
     "start_time": "2023-08-18T17:16:34.615649",
     "status": "completed"
    },
    "tags": []
   },
   "outputs": [
    {
     "data": {
      "text/plain": [
       "(5157, 2)"
      ]
     },
     "execution_count": 13,
     "metadata": {},
     "output_type": "execute_result"
    }
   ],
   "source": [
    "email.shape"
   ]
  },
  {
   "cell_type": "code",
   "execution_count": 14,
   "id": "b4ec8747",
   "metadata": {
    "execution": {
     "iopub.execute_input": "2023-08-18T17:16:34.671874Z",
     "iopub.status.busy": "2023-08-18T17:16:34.671201Z",
     "iopub.status.idle": "2023-08-18T17:16:34.678338Z",
     "shell.execute_reply": "2023-08-18T17:16:34.677199Z"
    },
    "papermill": {
     "duration": 0.027515,
     "end_time": "2023-08-18T17:16:34.681767",
     "exception": false,
     "start_time": "2023-08-18T17:16:34.654252",
     "status": "completed"
    },
    "tags": []
   },
   "outputs": [
    {
     "data": {
      "text/plain": [
       "10314"
      ]
     },
     "execution_count": 14,
     "metadata": {},
     "output_type": "execute_result"
    }
   ],
   "source": [
    "email.size"
   ]
  },
  {
   "cell_type": "code",
   "execution_count": 15,
   "id": "372e0995",
   "metadata": {
    "execution": {
     "iopub.execute_input": "2023-08-18T17:16:34.709354Z",
     "iopub.status.busy": "2023-08-18T17:16:34.708984Z",
     "iopub.status.idle": "2023-08-18T17:16:34.728326Z",
     "shell.execute_reply": "2023-08-18T17:16:34.727518Z"
    },
    "papermill": {
     "duration": 0.036009,
     "end_time": "2023-08-18T17:16:34.730767",
     "exception": false,
     "start_time": "2023-08-18T17:16:34.694758",
     "status": "completed"
    },
    "tags": []
   },
   "outputs": [
    {
     "name": "stdout",
     "output_type": "stream",
     "text": [
      "<class 'pandas.core.frame.DataFrame'>\n",
      "Int64Index: 5157 entries, 0 to 5571\n",
      "Data columns (total 2 columns):\n",
      " #   Column    Non-Null Count  Dtype \n",
      "---  ------    --------------  ----- \n",
      " 0   category  5157 non-null   object\n",
      " 1   message   5157 non-null   object\n",
      "dtypes: object(2)\n",
      "memory usage: 120.9+ KB\n"
     ]
    }
   ],
   "source": [
    "email.info()"
   ]
  },
  {
   "cell_type": "code",
   "execution_count": 16,
   "id": "fb0237c1",
   "metadata": {
    "execution": {
     "iopub.execute_input": "2023-08-18T17:16:34.758444Z",
     "iopub.status.busy": "2023-08-18T17:16:34.758020Z",
     "iopub.status.idle": "2023-08-18T17:16:34.776986Z",
     "shell.execute_reply": "2023-08-18T17:16:34.775728Z"
    },
    "papermill": {
     "duration": 0.035827,
     "end_time": "2023-08-18T17:16:34.779316",
     "exception": false,
     "start_time": "2023-08-18T17:16:34.743489",
     "status": "completed"
    },
    "tags": []
   },
   "outputs": [
    {
     "data": {
      "text/html": [
       "<div>\n",
       "<style scoped>\n",
       "    .dataframe tbody tr th:only-of-type {\n",
       "        vertical-align: middle;\n",
       "    }\n",
       "\n",
       "    .dataframe tbody tr th {\n",
       "        vertical-align: top;\n",
       "    }\n",
       "\n",
       "    .dataframe thead th {\n",
       "        text-align: right;\n",
       "    }\n",
       "</style>\n",
       "<table border=\"1\" class=\"dataframe\">\n",
       "  <thead>\n",
       "    <tr style=\"text-align: right;\">\n",
       "      <th></th>\n",
       "      <th>category</th>\n",
       "      <th>message</th>\n",
       "    </tr>\n",
       "  </thead>\n",
       "  <tbody>\n",
       "    <tr>\n",
       "      <th>count</th>\n",
       "      <td>5157</td>\n",
       "      <td>5157</td>\n",
       "    </tr>\n",
       "    <tr>\n",
       "      <th>unique</th>\n",
       "      <td>2</td>\n",
       "      <td>5157</td>\n",
       "    </tr>\n",
       "    <tr>\n",
       "      <th>top</th>\n",
       "      <td>ham</td>\n",
       "      <td>Go until jurong point, crazy.. Available only ...</td>\n",
       "    </tr>\n",
       "    <tr>\n",
       "      <th>freq</th>\n",
       "      <td>4516</td>\n",
       "      <td>1</td>\n",
       "    </tr>\n",
       "  </tbody>\n",
       "</table>\n",
       "</div>"
      ],
      "text/plain": [
       "       category                                            message\n",
       "count      5157                                               5157\n",
       "unique        2                                               5157\n",
       "top         ham  Go until jurong point, crazy.. Available only ...\n",
       "freq       4516                                                  1"
      ]
     },
     "execution_count": 16,
     "metadata": {},
     "output_type": "execute_result"
    }
   ],
   "source": [
    "email.describe()"
   ]
  },
  {
   "cell_type": "code",
   "execution_count": 17,
   "id": "86a2e259",
   "metadata": {
    "execution": {
     "iopub.execute_input": "2023-08-18T17:16:34.808700Z",
     "iopub.status.busy": "2023-08-18T17:16:34.808084Z",
     "iopub.status.idle": "2023-08-18T17:16:34.816501Z",
     "shell.execute_reply": "2023-08-18T17:16:34.815814Z"
    },
    "papermill": {
     "duration": 0.024997,
     "end_time": "2023-08-18T17:16:34.818409",
     "exception": false,
     "start_time": "2023-08-18T17:16:34.793412",
     "status": "completed"
    },
    "tags": []
   },
   "outputs": [
    {
     "data": {
      "text/html": [
       "<div>\n",
       "<style scoped>\n",
       "    .dataframe tbody tr th:only-of-type {\n",
       "        vertical-align: middle;\n",
       "    }\n",
       "\n",
       "    .dataframe tbody tr th {\n",
       "        vertical-align: top;\n",
       "    }\n",
       "\n",
       "    .dataframe thead th {\n",
       "        text-align: right;\n",
       "    }\n",
       "</style>\n",
       "<table border=\"1\" class=\"dataframe\">\n",
       "  <thead>\n",
       "    <tr style=\"text-align: right;\">\n",
       "      <th></th>\n",
       "      <th>category</th>\n",
       "    </tr>\n",
       "  </thead>\n",
       "  <tbody>\n",
       "    <tr>\n",
       "      <th>ham</th>\n",
       "      <td>4516</td>\n",
       "    </tr>\n",
       "    <tr>\n",
       "      <th>spam</th>\n",
       "      <td>641</td>\n",
       "    </tr>\n",
       "  </tbody>\n",
       "</table>\n",
       "</div>"
      ],
      "text/plain": [
       "      category\n",
       "ham       4516\n",
       "spam       641"
      ]
     },
     "execution_count": 17,
     "metadata": {},
     "output_type": "execute_result"
    }
   ],
   "source": [
    "email['category'].value_counts().to_frame()"
   ]
  },
  {
   "cell_type": "code",
   "execution_count": 18,
   "id": "5b1c4e49",
   "metadata": {
    "execution": {
     "iopub.execute_input": "2023-08-18T17:16:34.847333Z",
     "iopub.status.busy": "2023-08-18T17:16:34.846740Z",
     "iopub.status.idle": "2023-08-18T17:16:34.853440Z",
     "shell.execute_reply": "2023-08-18T17:16:34.852414Z"
    },
    "papermill": {
     "duration": 0.024315,
     "end_time": "2023-08-18T17:16:34.855834",
     "exception": false,
     "start_time": "2023-08-18T17:16:34.831519",
     "status": "completed"
    },
    "tags": []
   },
   "outputs": [],
   "source": [
    "email.loc[email['category']=='spam','category']=1\n",
    "email.loc[email['category']=='ham','category']=0"
   ]
  },
  {
   "cell_type": "code",
   "execution_count": 19,
   "id": "78e0f76c",
   "metadata": {
    "execution": {
     "iopub.execute_input": "2023-08-18T17:16:34.883348Z",
     "iopub.status.busy": "2023-08-18T17:16:34.882951Z",
     "iopub.status.idle": "2023-08-18T17:16:34.888951Z",
     "shell.execute_reply": "2023-08-18T17:16:34.887926Z"
    },
    "papermill": {
     "duration": 0.022079,
     "end_time": "2023-08-18T17:16:34.890972",
     "exception": false,
     "start_time": "2023-08-18T17:16:34.868893",
     "status": "completed"
    },
    "tags": []
   },
   "outputs": [],
   "source": [
    "email['category']=email['category'].astype('int64')"
   ]
  },
  {
   "cell_type": "code",
   "execution_count": 20,
   "id": "ba699b1e",
   "metadata": {
    "execution": {
     "iopub.execute_input": "2023-08-18T17:16:34.918853Z",
     "iopub.status.busy": "2023-08-18T17:16:34.918107Z",
     "iopub.status.idle": "2023-08-18T17:16:34.930635Z",
     "shell.execute_reply": "2023-08-18T17:16:34.929530Z"
    },
    "papermill": {
     "duration": 0.028915,
     "end_time": "2023-08-18T17:16:34.932901",
     "exception": false,
     "start_time": "2023-08-18T17:16:34.903986",
     "status": "completed"
    },
    "tags": []
   },
   "outputs": [
    {
     "name": "stdout",
     "output_type": "stream",
     "text": [
      "<class 'pandas.core.frame.DataFrame'>\n",
      "Int64Index: 5157 entries, 0 to 5571\n",
      "Data columns (total 2 columns):\n",
      " #   Column    Non-Null Count  Dtype \n",
      "---  ------    --------------  ----- \n",
      " 0   category  5157 non-null   int64 \n",
      " 1   message   5157 non-null   object\n",
      "dtypes: int64(1), object(1)\n",
      "memory usage: 120.9+ KB\n"
     ]
    }
   ],
   "source": [
    "email.info()"
   ]
  },
  {
   "cell_type": "code",
   "execution_count": 21,
   "id": "f88e2afb",
   "metadata": {
    "execution": {
     "iopub.execute_input": "2023-08-18T17:16:34.961026Z",
     "iopub.status.busy": "2023-08-18T17:16:34.960576Z",
     "iopub.status.idle": "2023-08-18T17:16:34.976593Z",
     "shell.execute_reply": "2023-08-18T17:16:34.975307Z"
    },
    "papermill": {
     "duration": 0.032781,
     "end_time": "2023-08-18T17:16:34.978751",
     "exception": false,
     "start_time": "2023-08-18T17:16:34.945970",
     "status": "completed"
    },
    "tags": []
   },
   "outputs": [
    {
     "data": {
      "text/html": [
       "<div>\n",
       "<style scoped>\n",
       "    .dataframe tbody tr th:only-of-type {\n",
       "        vertical-align: middle;\n",
       "    }\n",
       "\n",
       "    .dataframe tbody tr th {\n",
       "        vertical-align: top;\n",
       "    }\n",
       "\n",
       "    .dataframe thead th {\n",
       "        text-align: right;\n",
       "    }\n",
       "</style>\n",
       "<table border=\"1\" class=\"dataframe\">\n",
       "  <thead>\n",
       "    <tr style=\"text-align: right;\">\n",
       "      <th></th>\n",
       "      <th>category</th>\n",
       "    </tr>\n",
       "  </thead>\n",
       "  <tbody>\n",
       "    <tr>\n",
       "      <th>count</th>\n",
       "      <td>5157.000000</td>\n",
       "    </tr>\n",
       "    <tr>\n",
       "      <th>mean</th>\n",
       "      <td>0.124297</td>\n",
       "    </tr>\n",
       "    <tr>\n",
       "      <th>std</th>\n",
       "      <td>0.329952</td>\n",
       "    </tr>\n",
       "    <tr>\n",
       "      <th>min</th>\n",
       "      <td>0.000000</td>\n",
       "    </tr>\n",
       "    <tr>\n",
       "      <th>25%</th>\n",
       "      <td>0.000000</td>\n",
       "    </tr>\n",
       "    <tr>\n",
       "      <th>50%</th>\n",
       "      <td>0.000000</td>\n",
       "    </tr>\n",
       "    <tr>\n",
       "      <th>75%</th>\n",
       "      <td>0.000000</td>\n",
       "    </tr>\n",
       "    <tr>\n",
       "      <th>max</th>\n",
       "      <td>1.000000</td>\n",
       "    </tr>\n",
       "  </tbody>\n",
       "</table>\n",
       "</div>"
      ],
      "text/plain": [
       "          category\n",
       "count  5157.000000\n",
       "mean      0.124297\n",
       "std       0.329952\n",
       "min       0.000000\n",
       "25%       0.000000\n",
       "50%       0.000000\n",
       "75%       0.000000\n",
       "max       1.000000"
      ]
     },
     "execution_count": 21,
     "metadata": {},
     "output_type": "execute_result"
    }
   ],
   "source": [
    "email.describe()"
   ]
  },
  {
   "cell_type": "code",
   "execution_count": 22,
   "id": "a38ee736",
   "metadata": {
    "execution": {
     "iopub.execute_input": "2023-08-18T17:16:35.006898Z",
     "iopub.status.busy": "2023-08-18T17:16:35.006530Z",
     "iopub.status.idle": "2023-08-18T17:16:35.253560Z",
     "shell.execute_reply": "2023-08-18T17:16:35.252376Z"
    },
    "papermill": {
     "duration": 0.263972,
     "end_time": "2023-08-18T17:16:35.255970",
     "exception": false,
     "start_time": "2023-08-18T17:16:34.991998",
     "status": "completed"
    },
    "tags": []
   },
   "outputs": [
    {
     "data": {
      "text/plain": [
       "<Axes: xlabel='category', ylabel='count'>"
      ]
     },
     "execution_count": 22,
     "metadata": {},
     "output_type": "execute_result"
    },
    {
     "data": {
      "image/png": "[encoded data removed]",
      "text/plain": [
       "<Figure size 1500x500 with 1 Axes>"
      ]
     },
     "metadata": {},
     "output_type": "display_data"
    }
   ],
   "source": [
    "plt.figure(figsize=(15,5))\n",
    "sns.countplot(data=email,x='category')"
   ]
  },
  {
   "cell_type": "code",
   "execution_count": 23,
   "id": "323fe5d9",
   "metadata": {
    "execution": {
     "iopub.execute_input": "2023-08-18T17:16:35.285352Z",
     "iopub.status.busy": "2023-08-18T17:16:35.284967Z",
     "iopub.status.idle": "2023-08-18T17:16:35.294817Z",
     "shell.execute_reply": "2023-08-18T17:16:35.293766Z"
    },
    "papermill": {
     "duration": 0.026789,
     "end_time": "2023-08-18T17:16:35.296936",
     "exception": false,
     "start_time": "2023-08-18T17:16:35.270147",
     "status": "completed"
    },
    "tags": []
   },
   "outputs": [
    {
     "data": {
      "text/html": [
       "<div>\n",
       "<style scoped>\n",
       "    .dataframe tbody tr th:only-of-type {\n",
       "        vertical-align: middle;\n",
       "    }\n",
       "\n",
       "    .dataframe tbody tr th {\n",
       "        vertical-align: top;\n",
       "    }\n",
       "\n",
       "    .dataframe thead th {\n",
       "        text-align: right;\n",
       "    }\n",
       "</style>\n",
       "<table border=\"1\" class=\"dataframe\">\n",
       "  <thead>\n",
       "    <tr style=\"text-align: right;\">\n",
       "      <th></th>\n",
       "      <th>category</th>\n",
       "    </tr>\n",
       "  </thead>\n",
       "  <tbody>\n",
       "    <tr>\n",
       "      <th>0</th>\n",
       "      <td>4516</td>\n",
       "    </tr>\n",
       "    <tr>\n",
       "      <th>1</th>\n",
       "      <td>641</td>\n",
       "    </tr>\n",
       "  </tbody>\n",
       "</table>\n",
       "</div>"
      ],
      "text/plain": [
       "   category\n",
       "0      4516\n",
       "1       641"
      ]
     },
     "execution_count": 23,
     "metadata": {},
     "output_type": "execute_result"
    }
   ],
   "source": [
    "email['category'].value_counts().to_frame()"
   ]
  },
  {
   "cell_type": "code",
   "execution_count": 24,
   "id": "6615ffd2",
   "metadata": {
    "execution": {
     "iopub.execute_input": "2023-08-18T17:16:35.326554Z",
     "iopub.status.busy": "2023-08-18T17:16:35.325532Z",
     "iopub.status.idle": "2023-08-18T17:16:35.330286Z",
     "shell.execute_reply": "2023-08-18T17:16:35.329597Z"
    },
    "papermill": {
     "duration": 0.021583,
     "end_time": "2023-08-18T17:16:35.332224",
     "exception": false,
     "start_time": "2023-08-18T17:16:35.310641",
     "status": "completed"
    },
    "tags": []
   },
   "outputs": [],
   "source": [
    "from sklearn.utils import resample"
   ]
  },
  {
   "cell_type": "code",
   "execution_count": 25,
   "id": "9b08d4fa",
   "metadata": {
    "execution": {
     "iopub.execute_input": "2023-08-18T17:16:35.361538Z",
     "iopub.status.busy": "2023-08-18T17:16:35.360897Z",
     "iopub.status.idle": "2023-08-18T17:16:35.367218Z",
     "shell.execute_reply": "2023-08-18T17:16:35.366525Z"
    },
    "papermill": {
     "duration": 0.023288,
     "end_time": "2023-08-18T17:16:35.369237",
     "exception": false,
     "start_time": "2023-08-18T17:16:35.345949",
     "status": "completed"
    },
    "tags": []
   },
   "outputs": [],
   "source": [
    "email_majority=email[email['category']==0]\n",
    "email_minority=email[email['category']==1]"
   ]
  },
  {
   "cell_type": "code",
   "execution_count": 26,
   "id": "3f720c0d",
   "metadata": {
    "execution": {
     "iopub.execute_input": "2023-08-18T17:16:35.398704Z",
     "iopub.status.busy": "2023-08-18T17:16:35.398069Z",
     "iopub.status.idle": "2023-08-18T17:16:35.403759Z",
     "shell.execute_reply": "2023-08-18T17:16:35.403036Z"
    },
    "papermill": {
     "duration": 0.02272,
     "end_time": "2023-08-18T17:16:35.405709",
     "exception": false,
     "start_time": "2023-08-18T17:16:35.382989",
     "status": "completed"
    },
    "tags": []
   },
   "outputs": [],
   "source": [
    "email_majority_downsample=resample(email_majority,replace=False,n_samples=641,random_state=42)"
   ]
  },
  {
   "cell_type": "code",
   "execution_count": 27,
   "id": "8d02cf7a",
   "metadata": {
    "execution": {
     "iopub.execute_input": "2023-08-18T17:16:35.434893Z",
     "iopub.status.busy": "2023-08-18T17:16:35.434265Z",
     "iopub.status.idle": "2023-08-18T17:16:35.439827Z",
     "shell.execute_reply": "2023-08-18T17:16:35.439074Z"
    },
    "papermill": {
     "duration": 0.022552,
     "end_time": "2023-08-18T17:16:35.441875",
     "exception": false,
     "start_time": "2023-08-18T17:16:35.419323",
     "status": "completed"
    },
    "tags": []
   },
   "outputs": [],
   "source": [
    "email_df=pd.concat([email_majority_downsample,email_minority])"
   ]
  },
  {
   "cell_type": "code",
   "execution_count": 28,
   "id": "a9af6c78",
   "metadata": {
    "execution": {
     "iopub.execute_input": "2023-08-18T17:16:35.471740Z",
     "iopub.status.busy": "2023-08-18T17:16:35.471293Z",
     "iopub.status.idle": "2023-08-18T17:16:35.480968Z",
     "shell.execute_reply": "2023-08-18T17:16:35.479924Z"
    },
    "papermill": {
     "duration": 0.02711,
     "end_time": "2023-08-18T17:16:35.483045",
     "exception": false,
     "start_time": "2023-08-18T17:16:35.455935",
     "status": "completed"
    },
    "tags": []
   },
   "outputs": [
    {
     "data": {
      "text/html": [
       "<div>\n",
       "<style scoped>\n",
       "    .dataframe tbody tr th:only-of-type {\n",
       "        vertical-align: middle;\n",
       "    }\n",
       "\n",
       "    .dataframe tbody tr th {\n",
       "        vertical-align: top;\n",
       "    }\n",
       "\n",
       "    .dataframe thead th {\n",
       "        text-align: right;\n",
       "    }\n",
       "</style>\n",
       "<table border=\"1\" class=\"dataframe\">\n",
       "  <thead>\n",
       "    <tr style=\"text-align: right;\">\n",
       "      <th></th>\n",
       "      <th>category</th>\n",
       "    </tr>\n",
       "  </thead>\n",
       "  <tbody>\n",
       "    <tr>\n",
       "      <th>0</th>\n",
       "      <td>641</td>\n",
       "    </tr>\n",
       "    <tr>\n",
       "      <th>1</th>\n",
       "      <td>641</td>\n",
       "    </tr>\n",
       "  </tbody>\n",
       "</table>\n",
       "</div>"
      ],
      "text/plain": [
       "   category\n",
       "0       641\n",
       "1       641"
      ]
     },
     "execution_count": 28,
     "metadata": {},
     "output_type": "execute_result"
    }
   ],
   "source": [
    "email_df['category'].value_counts().to_frame()"
   ]
  },
  {
   "cell_type": "code",
   "execution_count": 29,
   "id": "45709aea",
   "metadata": {
    "execution": {
     "iopub.execute_input": "2023-08-18T17:16:35.513030Z",
     "iopub.status.busy": "2023-08-18T17:16:35.512636Z",
     "iopub.status.idle": "2023-08-18T17:16:35.739381Z",
     "shell.execute_reply": "2023-08-18T17:16:35.738279Z"
    },
    "papermill": {
     "duration": 0.244529,
     "end_time": "2023-08-18T17:16:35.741664",
     "exception": false,
     "start_time": "2023-08-18T17:16:35.497135",
     "status": "completed"
    },
    "tags": []
   },
   "outputs": [
    {
     "data": {
      "text/plain": [
       "<Axes: xlabel='category', ylabel='count'>"
      ]
     },
     "execution_count": 29,
     "metadata": {},
     "output_type": "execute_result"
    },
    {
     "data": {
      "image/png": "[encoded data removed]",
      "text/plain": [
       "<Figure size 1500x500 with 1 Axes>"
      ]
     },
     "metadata": {},
     "output_type": "display_data"
    }
   ],
   "source": [
    "plt.figure(figsize=(15,5))\n",
    "sns.countplot(data=email_df,x='category')"
   ]
  },
  {
   "cell_type": "code",
   "execution_count": 30,
   "id": "ed51d26d",
   "metadata": {
    "execution": {
     "iopub.execute_input": "2023-08-18T17:16:35.772501Z",
     "iopub.status.busy": "2023-08-18T17:16:35.772088Z",
     "iopub.status.idle": "2023-08-18T17:16:35.777211Z",
     "shell.execute_reply": "2023-08-18T17:16:35.776133Z"
    },
    "papermill": {
     "duration": 0.022988,
     "end_time": "2023-08-18T17:16:35.779294",
     "exception": false,
     "start_time": "2023-08-18T17:16:35.756306",
     "status": "completed"
    },
    "tags": []
   },
   "outputs": [],
   "source": [
    "x=email_df['message']\n",
    "y=email_df['category']"
   ]
  },
  {
   "cell_type": "code",
   "execution_count": 31,
   "id": "8d8cf3a4",
   "metadata": {
    "execution": {
     "iopub.execute_input": "2023-08-18T17:16:35.811605Z",
     "iopub.status.busy": "2023-08-18T17:16:35.811186Z",
     "iopub.status.idle": "2023-08-18T17:16:35.930177Z",
     "shell.execute_reply": "2023-08-18T17:16:35.929010Z"
    },
    "papermill": {
     "duration": 0.137061,
     "end_time": "2023-08-18T17:16:35.932619",
     "exception": false,
     "start_time": "2023-08-18T17:16:35.795558",
     "status": "completed"
    },
    "tags": []
   },
   "outputs": [],
   "source": [
    "from sklearn.model_selection import train_test_split"
   ]
  },
  {
   "cell_type": "code",
   "execution_count": 32,
   "id": "7da4a432",
   "metadata": {
    "execution": {
     "iopub.execute_input": "2023-08-18T17:16:35.963987Z",
     "iopub.status.busy": "2023-08-18T17:16:35.963597Z",
     "iopub.status.idle": "2023-08-18T17:16:35.970977Z",
     "shell.execute_reply": "2023-08-18T17:16:35.969834Z"
    },
    "papermill": {
     "duration": 0.026008,
     "end_time": "2023-08-18T17:16:35.973228",
     "exception": false,
     "start_time": "2023-08-18T17:16:35.947220",
     "status": "completed"
    },
    "tags": []
   },
   "outputs": [],
   "source": [
    "x_train,x_test,y_train,y_test=train_test_split(x,y,test_size=0.3,random_state=42)"
   ]
  },
  {
   "cell_type": "code",
   "execution_count": 33,
   "id": "7742972a",
   "metadata": {
    "execution": {
     "iopub.execute_input": "2023-08-18T17:16:36.004812Z",
     "iopub.status.busy": "2023-08-18T17:16:36.004419Z",
     "iopub.status.idle": "2023-08-18T17:16:36.010801Z",
     "shell.execute_reply": "2023-08-18T17:16:36.009880Z"
    },
    "papermill": {
     "duration": 0.024573,
     "end_time": "2023-08-18T17:16:36.012803",
     "exception": false,
     "start_time": "2023-08-18T17:16:35.988230",
     "status": "completed"
    },
    "tags": []
   },
   "outputs": [
    {
     "data": {
      "text/plain": [
       "((897,), (385,), (897,), (385,))"
      ]
     },
     "execution_count": 33,
     "metadata": {},
     "output_type": "execute_result"
    }
   ],
   "source": [
    "x_train.shape,x_test.shape,y_train.shape,y_test.shape"
   ]
  },
  {
   "cell_type": "code",
   "execution_count": 34,
   "id": "f7576f81",
   "metadata": {
    "execution": {
     "iopub.execute_input": "2023-08-18T17:16:36.045353Z",
     "iopub.status.busy": "2023-08-18T17:16:36.044937Z",
     "iopub.status.idle": "2023-08-18T17:16:36.062326Z",
     "shell.execute_reply": "2023-08-18T17:16:36.061457Z"
    },
    "papermill": {
     "duration": 0.03663,
     "end_time": "2023-08-18T17:16:36.064758",
     "exception": false,
     "start_time": "2023-08-18T17:16:36.028128",
     "status": "completed"
    },
    "tags": []
   },
   "outputs": [],
   "source": [
    "from sklearn.feature_extraction.text import TfidfVectorizer"
   ]
  },
  {
   "cell_type": "code",
   "execution_count": 35,
   "id": "a429c686",
   "metadata": {
    "execution": {
     "iopub.execute_input": "2023-08-18T17:16:36.096526Z",
     "iopub.status.busy": "2023-08-18T17:16:36.095379Z",
     "iopub.status.idle": "2023-08-18T17:16:36.100862Z",
     "shell.execute_reply": "2023-08-18T17:16:36.099914Z"
    },
    "papermill": {
     "duration": 0.023548,
     "end_time": "2023-08-18T17:16:36.103077",
     "exception": false,
     "start_time": "2023-08-18T17:16:36.079529",
     "status": "completed"
    },
    "tags": []
   },
   "outputs": [],
   "source": [
    "fe=TfidfVectorizer(min_df=1,stop_words='english',lowercase=True)"
   ]
  },
  {
   "cell_type": "code",
   "execution_count": 36,
   "id": "ae081a1f",
   "metadata": {
    "execution": {
     "iopub.execute_input": "2023-08-18T17:16:36.135092Z",
     "iopub.status.busy": "2023-08-18T17:16:36.133911Z",
     "iopub.status.idle": "2023-08-18T17:16:36.187775Z",
     "shell.execute_reply": "2023-08-18T17:16:36.186481Z"
    },
    "papermill": {
     "duration": 0.072708,
     "end_time": "2023-08-18T17:16:36.190711",
     "exception": false,
     "start_time": "2023-08-18T17:16:36.118003",
     "status": "completed"
    },
    "tags": []
   },
   "outputs": [],
   "source": [
    "x_train_fe=fe.fit_transform(x_train)\n",
    "x_test_fe=fe.transform(x_test)"
   ]
  },
  {
   "cell_type": "code",
   "execution_count": 37,
   "id": "4a3cf4c5",
   "metadata": {
    "execution": {
     "iopub.execute_input": "2023-08-18T17:16:36.221695Z",
     "iopub.status.busy": "2023-08-18T17:16:36.221305Z",
     "iopub.status.idle": "2023-08-18T17:16:36.227361Z",
     "shell.execute_reply": "2023-08-18T17:16:36.226543Z"
    },
    "papermill": {
     "duration": 0.023823,
     "end_time": "2023-08-18T17:16:36.229345",
     "exception": false,
     "start_time": "2023-08-18T17:16:36.205522",
     "status": "completed"
    },
    "tags": []
   },
   "outputs": [
    {
     "data": {
      "text/plain": [
       "<897x3360 sparse matrix of type '<class 'numpy.float64'>'\n",
       "\twith 9708 stored elements in Compressed Sparse Row format>"
      ]
     },
     "execution_count": 37,
     "metadata": {},
     "output_type": "execute_result"
    }
   ],
   "source": [
    "x_train_fe"
   ]
  },
  {
   "cell_type": "code",
   "execution_count": 38,
   "id": "7ef6650d",
   "metadata": {
    "execution": {
     "iopub.execute_input": "2023-08-18T17:16:36.260864Z",
     "iopub.status.busy": "2023-08-18T17:16:36.260329Z",
     "iopub.status.idle": "2023-08-18T17:16:36.266929Z",
     "shell.execute_reply": "2023-08-18T17:16:36.265868Z"
    },
    "papermill": {
     "duration": 0.025052,
     "end_time": "2023-08-18T17:16:36.269004",
     "exception": false,
     "start_time": "2023-08-18T17:16:36.243952",
     "status": "completed"
    },
    "tags": []
   },
   "outputs": [
    {
     "data": {
      "text/plain": [
       "<385x3360 sparse matrix of type '<class 'numpy.float64'>'\n",
       "\twith 3228 stored elements in Compressed Sparse Row format>"
      ]
     },
     "execution_count": 38,
     "metadata": {},
     "output_type": "execute_result"
    }
   ],
   "source": [
    "x_test_fe"
   ]
  },
  {
   "cell_type": "code",
   "execution_count": 39,
   "id": "8197392b",
   "metadata": {
    "execution": {
     "iopub.execute_input": "2023-08-18T17:16:36.300954Z",
     "iopub.status.busy": "2023-08-18T17:16:36.300534Z",
     "iopub.status.idle": "2023-08-18T17:16:36.385989Z",
     "shell.execute_reply": "2023-08-18T17:16:36.385057Z"
    },
    "papermill": {
     "duration": 0.104314,
     "end_time": "2023-08-18T17:16:36.388586",
     "exception": false,
     "start_time": "2023-08-18T17:16:36.284272",
     "status": "completed"
    },
    "tags": []
   },
   "outputs": [],
   "source": [
    "from sklearn.linear_model import LogisticRegression"
   ]
  },
  {
   "cell_type": "code",
   "execution_count": 40,
   "id": "502674c0",
   "metadata": {
    "execution": {
     "iopub.execute_input": "2023-08-18T17:16:36.419706Z",
     "iopub.status.busy": "2023-08-18T17:16:36.419305Z",
     "iopub.status.idle": "2023-08-18T17:16:36.423872Z",
     "shell.execute_reply": "2023-08-18T17:16:36.422874Z"
    },
    "papermill": {
     "duration": 0.022688,
     "end_time": "2023-08-18T17:16:36.426062",
     "exception": false,
     "start_time": "2023-08-18T17:16:36.403374",
     "status": "completed"
    },
    "tags": []
   },
   "outputs": [],
   "source": [
    "lr=LogisticRegression(max_iter=500)"
   ]
  },
  {
   "cell_type": "code",
   "execution_count": 41,
   "id": "ab6fad81",
   "metadata": {
    "execution": {
     "iopub.execute_input": "2023-08-18T17:16:36.457061Z",
     "iopub.status.busy": "2023-08-18T17:16:36.456394Z",
     "iopub.status.idle": "2023-08-18T17:16:36.503528Z",
     "shell.execute_reply": "2023-08-18T17:16:36.502467Z"
    },
    "papermill": {
     "duration": 0.065295,
     "end_time": "2023-08-18T17:16:36.505932",
     "exception": false,
     "start_time": "2023-08-18T17:16:36.440637",
     "status": "completed"
    },
    "tags": []
   },
   "outputs": [
    {
     "data": {
      "text/html": [
       "<style>#sk-container-id-1 {color: black;background-color: white;}#sk-container-id-1 pre{padding: 0;}#sk-container-id-1 div.sk-toggleable {background-color: white;}#sk-container-id-1 label.sk-toggleable__label {cursor: pointer;display: block;width: 100%;margin-bottom: 0;padding: 0.3em;box-sizing: border-box;text-align: center;}#sk-container-id-1 label.sk-toggleable__label-arrow:before {content: \"▸\";float: left;margin-right: 0.25em;color: #696969;}#sk-container-id-1 label.sk-toggleable__label-arrow:hover:before {color: black;}#sk-container-id-1 div.sk-estimator:hover label.sk-toggleable__label-arrow:before {color: black;}#sk-container-id-1 div.sk-toggleable__content {max-height: 0;max-width: 0;overflow: hidden;text-align: left;background-color: #f0f8ff;}#sk-container-id-1 div.sk-toggleable__content pre {margin: 0.2em;color: black;border-radius: 0.25em;background-color: #f0f8ff;}#sk-container-id-1 input.sk-toggleable__control:checked~div.sk-toggleable__content {max-height: 200px;max-width: 100%;overflow: auto;}#sk-container-id-1 input.sk-toggleable__control:checked~label.sk-toggleable__label-arrow:before {content: \"▾\";}#sk-container-id-1 div.sk-estimator input.sk-toggleable__control:checked~label.sk-toggleable__label {background-color: #d4ebff;}#sk-container-id-1 div.sk-label input.sk-toggleable__control:checked~label.sk-toggleable__label {background-color: #d4ebff;}#sk-container-id-1 input.sk-hidden--visually {border: 0;clip: rect(1px 1px 1px 1px);clip: rect(1px, 1px, 1px, 1px);height: 1px;margin: -1px;overflow: hidden;padding: 0;position: absolute;width: 1px;}#sk-container-id-1 div.sk-estimator {font-family: monospace;background-color: #f0f8ff;border: 1px dotted black;border-radius: 0.25em;box-sizing: border-box;margin-bottom: 0.5em;}#sk-container-id-1 div.sk-estimator:hover {background-color: #d4ebff;}#sk-container-id-1 div.sk-parallel-item::after {content: \"\";width: 100%;border-bottom: 1px solid gray;flex-grow: 1;}#sk-container-id-1 div.sk-label:hover label.sk-toggleable__label {background-color: #d4ebff;}#sk-container-id-1 div.sk-serial::before {content: \"\";position: absolute;border-left: 1px solid gray;box-sizing: border-box;top: 0;bottom: 0;left: 50%;z-index: 0;}#sk-container-id-1 div.sk-serial {display: flex;flex-direction: column;align-items: center;background-color: white;padding-right: 0.2em;padding-left: 0.2em;position: relative;}#sk-container-id-1 div.sk-item {position: relative;z-index: 1;}#sk-container-id-1 div.sk-parallel {display: flex;align-items: stretch;justify-content: center;background-color: white;position: relative;}#sk-container-id-1 div.sk-item::before, #sk-container-id-1 div.sk-parallel-item::before {content: \"\";position: absolute;border-left: 1px solid gray;box-sizing: border-box;top: 0;bottom: 0;left: 50%;z-index: -1;}#sk-container-id-1 div.sk-parallel-item {display: flex;flex-direction: column;z-index: 1;position: relative;background-color: white;}#sk-container-id-1 div.sk-parallel-item:first-child::after {align-self: flex-end;width: 50%;}#sk-container-id-1 div.sk-parallel-item:last-child::after {align-self: flex-start;width: 50%;}#sk-container-id-1 div.sk-parallel-item:only-child::after {width: 0;}#sk-container-id-1 div.sk-dashed-wrapped {border: 1px dashed gray;margin: 0 0.4em 0.5em 0.4em;box-sizing: border-box;padding-bottom: 0.4em;background-color: white;}#sk-container-id-1 div.sk-label label {font-family: monospace;font-weight: bold;display: inline-block;line-height: 1.2em;}#sk-container-id-1 div.sk-label-container {text-align: center;}#sk-container-id-1 div.sk-container {/* jupyter's `normalize.less` sets `[hidden] { display: none; }` but bootstrap.min.css set `[hidden] { display: none !important; }` so we also need the `!important` here to be able to override the default hidden behavior on the sphinx rendered scikit-learn.org. See: https://github.com/scikit-learn/scikit-learn/issues/21755 */display: inline-block !important;position: relative;}#sk-container-id-1 div.sk-text-repr-fallback {display: none;}</style><div id=\"sk-container-id-1\" class=\"sk-top-container\"><div class=\"sk-text-repr-fallback\"><pre>LogisticRegression(max_iter=500)</pre><b>In a Jupyter environment, please rerun this cell to show the HTML representation or trust the notebook. <br />On GitHub, the HTML representation is unable to render, please try loading this page with nbviewer.org.</b></div><div class=\"sk-container\" hidden><div class=\"sk-item\"><div class=\"sk-estimator sk-toggleable\"><input class=\"sk-toggleable__control sk-hidden--visually\" id=\"sk-estimator-id-1\" type=\"checkbox\" checked><label for=\"sk-estimator-id-1\" class=\"sk-toggleable__label sk-toggleable__label-arrow\">LogisticRegression</label><div class=\"sk-toggleable__content\"><pre>LogisticRegression(max_iter=500)</pre></div></div></div></div></div>"
      ],
      "text/plain": [
       "LogisticRegression(max_iter=500)"
      ]
     },
     "execution_count": 41,
     "metadata": {},
     "output_type": "execute_result"
    }
   ],
   "source": [
    "lr.fit(x_train_fe,y_train)"
   ]
  },
  {
   "cell_type": "code",
   "execution_count": 42,
   "id": "a296c4c1",
   "metadata": {
    "execution": {
     "iopub.execute_input": "2023-08-18T17:16:36.538110Z",
     "iopub.status.busy": "2023-08-18T17:16:36.537317Z",
     "iopub.status.idle": "2023-08-18T17:16:36.545871Z",
     "shell.execute_reply": "2023-08-18T17:16:36.544928Z"
    },
    "papermill": {
     "duration": 0.026813,
     "end_time": "2023-08-18T17:16:36.547993",
     "exception": false,
     "start_time": "2023-08-18T17:16:36.521180",
     "status": "completed"
    },
    "tags": []
   },
   "outputs": [
    {
     "data": {
      "text/plain": [
       "0.9888517279821628"
      ]
     },
     "execution_count": 42,
     "metadata": {},
     "output_type": "execute_result"
    }
   ],
   "source": [
    "lr.score(x_train_fe,y_train)"
   ]
  },
  {
   "cell_type": "code",
   "execution_count": 43,
   "id": "4638e1c6",
   "metadata": {
    "execution": {
     "iopub.execute_input": "2023-08-18T17:16:36.580059Z",
     "iopub.status.busy": "2023-08-18T17:16:36.579646Z",
     "iopub.status.idle": "2023-08-18T17:16:36.588259Z",
     "shell.execute_reply": "2023-08-18T17:16:36.587180Z"
    },
    "papermill": {
     "duration": 0.02707,
     "end_time": "2023-08-18T17:16:36.590231",
     "exception": false,
     "start_time": "2023-08-18T17:16:36.563161",
     "status": "completed"
    },
    "tags": []
   },
   "outputs": [
    {
     "data": {
      "text/plain": [
       "0.9558441558441558"
      ]
     },
     "execution_count": 43,
     "metadata": {},
     "output_type": "execute_result"
    }
   ],
   "source": [
    "lr.score(x_test_fe,y_test)"
   ]
  },
  {
   "cell_type": "code",
   "execution_count": 44,
   "id": "f8c98d31",
   "metadata": {
    "execution": {
     "iopub.execute_input": "2023-08-18T17:16:36.622568Z",
     "iopub.status.busy": "2023-08-18T17:16:36.621537Z",
     "iopub.status.idle": "2023-08-18T17:16:36.627337Z",
     "shell.execute_reply": "2023-08-18T17:16:36.626283Z"
    },
    "papermill": {
     "duration": 0.024329,
     "end_time": "2023-08-18T17:16:36.629666",
     "exception": false,
     "start_time": "2023-08-18T17:16:36.605337",
     "status": "completed"
    },
    "tags": []
   },
   "outputs": [],
   "source": [
    "y_pred=lr.predict(x_test_fe)"
   ]
  },
  {
   "cell_type": "code",
   "execution_count": 45,
   "id": "775678ac",
   "metadata": {
    "execution": {
     "iopub.execute_input": "2023-08-18T17:16:36.661832Z",
     "iopub.status.busy": "2023-08-18T17:16:36.661428Z",
     "iopub.status.idle": "2023-08-18T17:16:36.666501Z",
     "shell.execute_reply": "2023-08-18T17:16:36.665424Z"
    },
    "papermill": {
     "duration": 0.023743,
     "end_time": "2023-08-18T17:16:36.668811",
     "exception": false,
     "start_time": "2023-08-18T17:16:36.645068",
     "status": "completed"
    },
    "tags": []
   },
   "outputs": [],
   "source": [
    "from sklearn.metrics import confusion_matrix,recall_score,precision_score,accuracy_score,f1_score,ConfusionMatrixDisplay"
   ]
  },
  {
   "cell_type": "code",
   "execution_count": 46,
   "id": "c7250312",
   "metadata": {
    "execution": {
     "iopub.execute_input": "2023-08-18T17:16:36.701136Z",
     "iopub.status.busy": "2023-08-18T17:16:36.700759Z",
     "iopub.status.idle": "2023-08-18T17:16:36.708249Z",
     "shell.execute_reply": "2023-08-18T17:16:36.707431Z"
    },
    "papermill": {
     "duration": 0.026241,
     "end_time": "2023-08-18T17:16:36.710295",
     "exception": false,
     "start_time": "2023-08-18T17:16:36.684054",
     "status": "completed"
    },
    "tags": []
   },
   "outputs": [
    {
     "data": {
      "text/plain": [
       "0.9766081871345029"
      ]
     },
     "execution_count": 46,
     "metadata": {},
     "output_type": "execute_result"
    }
   ],
   "source": [
    "precision_score(y_test,y_pred)"
   ]
  },
  {
   "cell_type": "code",
   "execution_count": 47,
   "id": "7ce1232a",
   "metadata": {
    "execution": {
     "iopub.execute_input": "2023-08-18T17:16:36.742918Z",
     "iopub.status.busy": "2023-08-18T17:16:36.742532Z",
     "iopub.status.idle": "2023-08-18T17:16:36.751046Z",
     "shell.execute_reply": "2023-08-18T17:16:36.749999Z"
    },
    "papermill": {
     "duration": 0.027393,
     "end_time": "2023-08-18T17:16:36.753177",
     "exception": false,
     "start_time": "2023-08-18T17:16:36.725784",
     "status": "completed"
    },
    "tags": []
   },
   "outputs": [
    {
     "data": {
      "text/plain": [
       "0.9277777777777778"
      ]
     },
     "execution_count": 47,
     "metadata": {},
     "output_type": "execute_result"
    }
   ],
   "source": [
    "recall_score(y_test,y_pred)"
   ]
  },
  {
   "cell_type": "code",
   "execution_count": 48,
   "id": "ec219e56",
   "metadata": {
    "execution": {
     "iopub.execute_input": "2023-08-18T17:16:36.786437Z",
     "iopub.status.busy": "2023-08-18T17:16:36.785328Z",
     "iopub.status.idle": "2023-08-18T17:16:36.793369Z",
     "shell.execute_reply": "2023-08-18T17:16:36.792294Z"
    },
    "papermill": {
     "duration": 0.027528,
     "end_time": "2023-08-18T17:16:36.796357",
     "exception": false,
     "start_time": "2023-08-18T17:16:36.768829",
     "status": "completed"
    },
    "tags": []
   },
   "outputs": [
    {
     "data": {
      "text/plain": [
       "0.9558441558441558"
      ]
     },
     "execution_count": 48,
     "metadata": {},
     "output_type": "execute_result"
    }
   ],
   "source": [
    "accuracy_score(y_test,y_pred)"
   ]
  },
  {
   "cell_type": "code",
   "execution_count": 49,
   "id": "295a8702",
   "metadata": {
    "execution": {
     "iopub.execute_input": "2023-08-18T17:16:36.829772Z",
     "iopub.status.busy": "2023-08-18T17:16:36.829191Z",
     "iopub.status.idle": "2023-08-18T17:16:36.838541Z",
     "shell.execute_reply": "2023-08-18T17:16:36.837508Z"
    },
    "papermill": {
     "duration": 0.028178,
     "end_time": "2023-08-18T17:16:36.840639",
     "exception": false,
     "start_time": "2023-08-18T17:16:36.812461",
     "status": "completed"
    },
    "tags": []
   },
   "outputs": [
    {
     "data": {
      "text/plain": [
       "0.9515669515669516"
      ]
     },
     "execution_count": 49,
     "metadata": {},
     "output_type": "execute_result"
    }
   ],
   "source": [
    "f1_score(y_test,y_pred)"
   ]
  },
  {
   "cell_type": "code",
   "execution_count": 50,
   "id": "c4f13cd0",
   "metadata": {
    "execution": {
     "iopub.execute_input": "2023-08-18T17:16:36.874108Z",
     "iopub.status.busy": "2023-08-18T17:16:36.873658Z",
     "iopub.status.idle": "2023-08-18T17:16:37.171445Z",
     "shell.execute_reply": "2023-08-18T17:16:37.170502Z"
    },
    "papermill": {
     "duration": 0.317051,
     "end_time": "2023-08-18T17:16:37.173593",
     "exception": false,
     "start_time": "2023-08-18T17:16:36.856542",
     "status": "completed"
    },
    "tags": []
   },
   "outputs": [
    {
     "data": {
      "text/plain": [
       "<sklearn.metrics._plot.confusion_matrix.ConfusionMatrixDisplay at 0x7a4bf035b8b0>"
      ]
     },
     "execution_count": 50,
     "metadata": {},
     "output_type": "execute_result"
    },
    {
     "data": {
      "image/png": "[encoded data removed]",
      "text/plain": [
       "<Figure size 640x480 with 2 Axes>"
      ]
     },
     "metadata": {},
     "output_type": "display_data"
    }
   ],
   "source": [
    "cmd=ConfusionMatrixDisplay(confusion_matrix=confusion_matrix(y_test,y_pred,labels=lr.classes_),display_labels=lr.classes_)\n",
    "cmd.plot()"
   ]
  },
  {
   "cell_type": "code",
   "execution_count": 51,
   "id": "84251ecb",
   "metadata": {
    "execution": {
     "iopub.execute_input": "2023-08-18T17:16:37.208727Z",
     "iopub.status.busy": "2023-08-18T17:16:37.207858Z",
     "iopub.status.idle": "2023-08-18T17:16:37.211996Z",
     "shell.execute_reply": "2023-08-18T17:16:37.211242Z"
    },
    "papermill": {
     "duration": 0.023638,
     "end_time": "2023-08-18T17:16:37.213950",
     "exception": false,
     "start_time": "2023-08-18T17:16:37.190312",
     "status": "completed"
    },
    "tags": []
   },
   "outputs": [],
   "source": [
    "enter_your_mail=['i am happy to do dinner with you']"
   ]
  },
  {
   "cell_type": "code",
   "execution_count": 52,
   "id": "9ad0bb3a",
   "metadata": {
    "execution": {
     "iopub.execute_input": "2023-08-18T17:16:37.249186Z",
     "iopub.status.busy": "2023-08-18T17:16:37.248486Z",
     "iopub.status.idle": "2023-08-18T17:16:37.253839Z",
     "shell.execute_reply": "2023-08-18T17:16:37.252917Z"
    },
    "papermill": {
     "duration": 0.025058,
     "end_time": "2023-08-18T17:16:37.255960",
     "exception": false,
     "start_time": "2023-08-18T17:16:37.230902",
     "status": "completed"
    },
    "tags": []
   },
   "outputs": [],
   "source": [
    "input_mail_features=fe.transform(enter_your_mail)"
   ]
  },
  {
   "cell_type": "code",
   "execution_count": 53,
   "id": "166b5ac1",
   "metadata": {
    "execution": {
     "iopub.execute_input": "2023-08-18T17:16:37.291292Z",
     "iopub.status.busy": "2023-08-18T17:16:37.290708Z",
     "iopub.status.idle": "2023-08-18T17:16:37.294971Z",
     "shell.execute_reply": "2023-08-18T17:16:37.294179Z"
    },
    "papermill": {
     "duration": 0.024254,
     "end_time": "2023-08-18T17:16:37.296886",
     "exception": false,
     "start_time": "2023-08-18T17:16:37.272632",
     "status": "completed"
    },
    "tags": []
   },
   "outputs": [],
   "source": [
    "predict=lr.predict(input_mail_features)"
   ]
  },
  {
   "cell_type": "code",
   "execution_count": 54,
   "id": "4fd5de18",
   "metadata": {
    "execution": {
     "iopub.execute_input": "2023-08-18T17:16:37.331555Z",
     "iopub.status.busy": "2023-08-18T17:16:37.330940Z",
     "iopub.status.idle": "2023-08-18T17:16:37.336364Z",
     "shell.execute_reply": "2023-08-18T17:16:37.335109Z"
    },
    "papermill": {
     "duration": 0.025496,
     "end_time": "2023-08-18T17:16:37.338424",
     "exception": false,
     "start_time": "2023-08-18T17:16:37.312928",
     "status": "completed"
    },
    "tags": []
   },
   "outputs": [
    {
     "name": "stdout",
     "output_type": "stream",
     "text": [
      "mail is not spam\n"
     ]
    }
   ],
   "source": [
    "if predict==1:\n",
    "    print('mail is spam')\n",
    "else:\n",
    "    print('mail is not spam')"
   ]
  },
  {
   "cell_type": "markdown",
   "id": "a89c82b6",
   "metadata": {
    "papermill": {
     "duration": 0.01585,
     "end_time": "2023-08-18T17:16:37.370558",
     "exception": false,
     "start_time": "2023-08-18T17:16:37.354708",
     "status": "completed"
    },
    "tags": []
   },
   "source": [
    "## Thanks And Regards \n",
    "### Anubhav Kumar Gupta"
   ]
  }
 ],
 "metadata": {
  "kernelspec": {
   "display_name": "Python 3",
   "language": "python",
   "name": "python3"
  },
  "language_info": {
   "codemirror_mode": {
    "name": "ipython",
    "version": 3
   },
   "file_extension": ".py",
   "mimetype": "text/x-python",
   "name": "python",
   "nbconvert_exporter": "python",
   "pygments_lexer": "ipython3",
   "version": "3.10.12"
  },
  "papermill": {
   "default_parameters": {},
   "duration": 14.720713,
   "end_time": "2023-08-18T17:16:38.408857",
   "environment_variables": {},
   "exception": null,
   "input_path": "__notebook__.ipynb",
   "output_path": "__notebook__.ipynb",
   "parameters": {},
   "start_time": "2023-08-18T17:16:23.688144",
   "version": "2.4.0"
  }
 },
 "nbformat": 4,
 "nbformat_minor": 5
}
